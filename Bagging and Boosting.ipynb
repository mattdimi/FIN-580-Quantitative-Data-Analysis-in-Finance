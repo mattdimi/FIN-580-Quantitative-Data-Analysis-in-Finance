{
 "cells": [
  {
   "cell_type": "markdown",
   "metadata": {},
   "source": [
    "# Bagging and boosting on properties dataset of Zillow"
   ]
  },
  {
   "cell_type": "markdown",
   "metadata": {},
   "source": [
    "In today's precept, we are going to work on the Zillow dataset again and apply what we saw in class about:\n",
    "- Bagging\n",
    "- Boosting"
   ]
  },
  {
   "cell_type": "markdown",
   "metadata": {},
   "source": [
    "## Bagging, boosting and random forests"
   ]
  },
  {
   "cell_type": "markdown",
   "metadata": {},
   "source": [
    "Bagging and boosting are two types of ensemble learning. They decrease the variance of a single estimate as they combine several estimates from different models. So the result may be a model with higher stability.\n",
    "\n",
    "- Bagging: It is a *homogeneous* weak learners’ model that learns from each other independently in parallel and combines them for determining the model average.\n",
    "- Random forests: In Bagging, the overlap in the bootstrapped samples causes the outcomes to be highly correlated. To solve this, the idea is to decorrelate the outputs by limiting the dimension of the feature space at each bootstrap sampling ($p \\choose m$, $m \\approx \\sqrt p$ for classification, $m \\approx p/3$ for regression.\n",
    "- Boosting: It is also a *homogeneous* weak learners’ model but works differently from Bagging. In this model, learners learn sequentially and adaptively to improve model predictions of a learning algorithm.\n",
    "\n",
    "\n",
    "### Bagging\n",
    "\n",
    "Boostrap (sampling with repetition) aggregating. Special case of the model averaging approach."
   ]
  },
  {
   "cell_type": "markdown",
   "metadata": {},
   "source": [
    "![Bagging](Bagging.png)"
   ]
  },
  {
   "cell_type": "markdown",
   "metadata": {},
   "source": [
    "## Boosting\n",
    "Boosting is a way of fitting an additive expansion in a set of elementary “basis” functions. It is done by building a model by using weak models in series. Firstly, a model is built from the training data. Then the second model is built which tries to correct the errors (residuals / missclassifications) present in the first model. This procedure is continued and models are added until either the complete training data set is predicted correctly or the maximum number of models is added.\n",
    "\n",
    "Recall:\n",
    "\n",
    "$\\hat{y}_i = F_M(x_i) = \\sum_{m=1}^{M} h_m(x_i)$ where the $h_m$ are estimators called weak learners in the context of boosting. In boosting algorithms, $\\hat{y}_i$ is built in a greedy fashion. \n",
    "\n",
    "$F_m(x) = F_{m-1}(x) + h_m(x)$ with $h_m =  \\arg\\min_{h} L_m = \\arg\\min_{h} \\sum_{i=1}^{n} l(y_i, F_{m-1}(x_i) + h(x_i))$, l being a given loss function.\n",
    "\n",
    "$l(y_i, F_{m-1}(x_i) + h_m(x_i)) \\approx l(y_i, F_{m-1}(x_i)) + h_m(x_i) \\left[ \\frac{\\partial l(y_i, F(x_i))}{\\partial F(x_i)} \\right]_{F=F_{m - 1}}$\n",
    "\n",
    "$h_m \\approx \\arg\\min_{h} \\sum_{i=1}^{n} h(x_i) \\left[ \\frac{\\partial l(y_i, F(x_i))}{\\partial F(x_i)} \\right]_{F=F_{m - 1}} \\geq -||h(x)||^2.||\\nabla_F l||_{F=F_{m - 1}}^2$\n",
    "\n",
    "with equality i.i.f. $h(x) \\propto -\\nabla_F l_{F=F_{m - 1}}$ by Cauchy-Schwarz. Therefore, at each iteration, the estimator $h_m$ is **fitted to predict the negative gradients of the samples**.\n",
    "\n",
    "### AdaBoost\n",
    "\n",
    "![AdaBoost](Boosting.png)\n",
    "\n",
    "$$L(y, f(x)) = exp(-yf(x))$$\n",
    "\n",
    "For AdaBoost the basis functions are the individual classifiers $G_m(x) \\in \\{−1,1\\}$. \n",
    "\n",
    "Let $(x_1, y_1), ..., (x_n, y_n)$ be n data points, $y_i \\in \\{-1, 1\\}$.\n",
    "\n",
    "$$ (\\beta_m, G_m) \\in argmin \\sum_{i=1}^n exp(-y_i(f_{m-1}(x_i) + \\beta_mG_m(x_i)) [1]$$\n",
    "\n"
   ]
  },
  {
   "cell_type": "markdown",
   "metadata": {},
   "source": [
    "We can set $w_i = exp(-y_if_{m-1}(x_i))$ to see that, at iteration m, we are fitting the model on reweighted data. "
   ]
  },
  {
   "cell_type": "markdown",
   "metadata": {},
   "source": [
    "We update: $f_m(x) = f_{m-1}(x) + \\beta_m G_m(x))$.\n",
    "\n",
    "See section 10.4, *The Elements of Statistical Learning*, Tibshirani & al., for further details on how to solve [1]."
   ]
  },
  {
   "cell_type": "markdown",
   "metadata": {},
   "source": [
    "### Data analysis"
   ]
  },
  {
   "cell_type": "code",
   "execution_count": 192,
   "metadata": {},
   "outputs": [],
   "source": [
    "import numpy as np\n",
    "import pandas as pd\n",
    "import seaborn as sns\n",
    "import matplotlib.pyplot as plt\n",
    "# Set Matplotlib defaults\n",
    "plt.style.use(\"seaborn-whitegrid\")\n",
    "plt.rc(\"figure\", autolayout=True, figsize=(11, 5))\n",
    "plt.rc(\n",
    "    \"axes\",\n",
    "    labelweight=\"bold\",\n",
    "    labelsize=\"large\",\n",
    "    titleweight=\"bold\",\n",
    "    titlesize=14,\n",
    "    titlepad=10,\n",
    ")\n",
    "plot_params = dict(\n",
    "    color=\"0.75\",\n",
    "    style=\".-\",\n",
    "    markeredgecolor=\"0.25\",\n",
    "    markerfacecolor=\"0.25\",\n",
    "    legend=False,\n",
    ")\n",
    "%config InlineBackend.figure_format = 'retina'\n",
    "from sklearn.preprocessing import OneHotEncoder, StandardScaler, PolynomialFeatures\n",
    "from sklearn.linear_model import enet_path, ElasticNet, LinearRegression, Ridge, Lasso\n",
    "from sklearn.pipeline import make_pipeline\n",
    "from sklearn.model_selection import train_test_split, KFold\n",
    "from sklearn import metrics\n",
    "import math\n",
    "from collections import Counter\n",
    "import random\n",
    "from scipy.stats import multivariate_normal\n",
    "import statsmodels.api as sm\n",
    "from statsmodels.formula.api import ols\n",
    "from scipy import stats\n",
    "from tqdm import tqdm\n",
    "from numba import jit, njit\n",
    "from sklearn.ensemble import BaggingRegressor, GradientBoostingRegressor, RandomForestRegressor\n",
    "from sklearn.model_selection import KFold"
   ]
  },
  {
   "cell_type": "markdown",
   "metadata": {},
   "source": [
    "## Read the data"
   ]
  },
  {
   "cell_type": "code",
   "execution_count": 193,
   "metadata": {},
   "outputs": [],
   "source": [
    "train = pd.read_csv(\"train.data.csv\", low_memory = False, index_col = 0)\n",
    "test = pd.read_csv(\"test.data.csv\", low_memory = False, index_col = 0)"
   ]
  },
  {
   "cell_type": "code",
   "execution_count": 194,
   "metadata": {},
   "outputs": [
    {
     "data": {
      "text/html": [
       "<div>\n",
       "<style scoped>\n",
       "    .dataframe tbody tr th:only-of-type {\n",
       "        vertical-align: middle;\n",
       "    }\n",
       "\n",
       "    .dataframe tbody tr th {\n",
       "        vertical-align: top;\n",
       "    }\n",
       "\n",
       "    .dataframe thead th {\n",
       "        text-align: right;\n",
       "    }\n",
       "</style>\n",
       "<table border=\"1\" class=\"dataframe\">\n",
       "  <thead>\n",
       "    <tr style=\"text-align: right;\">\n",
       "      <th></th>\n",
       "      <th>id</th>\n",
       "      <th>date</th>\n",
       "      <th>price</th>\n",
       "      <th>bedrooms</th>\n",
       "      <th>bathrooms</th>\n",
       "      <th>sqft_living</th>\n",
       "      <th>sqft_lot</th>\n",
       "      <th>floors</th>\n",
       "      <th>waterfront</th>\n",
       "      <th>view</th>\n",
       "      <th>...</th>\n",
       "      <th>grade</th>\n",
       "      <th>sqft_above</th>\n",
       "      <th>sqft_basement</th>\n",
       "      <th>yr_built</th>\n",
       "      <th>yr_renovated</th>\n",
       "      <th>zipcode</th>\n",
       "      <th>lat</th>\n",
       "      <th>long</th>\n",
       "      <th>sqft_living15</th>\n",
       "      <th>sqft_lot15</th>\n",
       "    </tr>\n",
       "  </thead>\n",
       "  <tbody>\n",
       "    <tr>\n",
       "      <th>2</th>\n",
       "      <td>6414100192</td>\n",
       "      <td>20141209T000000</td>\n",
       "      <td>538000</td>\n",
       "      <td>3</td>\n",
       "      <td>2.25</td>\n",
       "      <td>2570</td>\n",
       "      <td>7242</td>\n",
       "      <td>2.0</td>\n",
       "      <td>0</td>\n",
       "      <td>0</td>\n",
       "      <td>...</td>\n",
       "      <td>7</td>\n",
       "      <td>2170</td>\n",
       "      <td>400</td>\n",
       "      <td>1951</td>\n",
       "      <td>1991</td>\n",
       "      <td>98125</td>\n",
       "      <td>47.7210</td>\n",
       "      <td>-122.319</td>\n",
       "      <td>1690</td>\n",
       "      <td>7639</td>\n",
       "    </tr>\n",
       "    <tr>\n",
       "      <th>4</th>\n",
       "      <td>2487200875</td>\n",
       "      <td>20141209T000000</td>\n",
       "      <td>604000</td>\n",
       "      <td>4</td>\n",
       "      <td>3.00</td>\n",
       "      <td>1960</td>\n",
       "      <td>5000</td>\n",
       "      <td>1.0</td>\n",
       "      <td>0</td>\n",
       "      <td>0</td>\n",
       "      <td>...</td>\n",
       "      <td>7</td>\n",
       "      <td>1050</td>\n",
       "      <td>910</td>\n",
       "      <td>1965</td>\n",
       "      <td>0</td>\n",
       "      <td>98136</td>\n",
       "      <td>47.5208</td>\n",
       "      <td>-122.393</td>\n",
       "      <td>1360</td>\n",
       "      <td>5000</td>\n",
       "    </tr>\n",
       "    <tr>\n",
       "      <th>5</th>\n",
       "      <td>1954400510</td>\n",
       "      <td>20150218T000000</td>\n",
       "      <td>510000</td>\n",
       "      <td>3</td>\n",
       "      <td>2.00</td>\n",
       "      <td>1680</td>\n",
       "      <td>8080</td>\n",
       "      <td>1.0</td>\n",
       "      <td>0</td>\n",
       "      <td>0</td>\n",
       "      <td>...</td>\n",
       "      <td>8</td>\n",
       "      <td>1680</td>\n",
       "      <td>0</td>\n",
       "      <td>1987</td>\n",
       "      <td>0</td>\n",
       "      <td>98074</td>\n",
       "      <td>47.6168</td>\n",
       "      <td>-122.045</td>\n",
       "      <td>1800</td>\n",
       "      <td>7503</td>\n",
       "    </tr>\n",
       "    <tr>\n",
       "      <th>6</th>\n",
       "      <td>7237550310</td>\n",
       "      <td>20140512T000000</td>\n",
       "      <td>1225000</td>\n",
       "      <td>4</td>\n",
       "      <td>4.50</td>\n",
       "      <td>5420</td>\n",
       "      <td>101930</td>\n",
       "      <td>1.0</td>\n",
       "      <td>0</td>\n",
       "      <td>0</td>\n",
       "      <td>...</td>\n",
       "      <td>11</td>\n",
       "      <td>3890</td>\n",
       "      <td>1530</td>\n",
       "      <td>2001</td>\n",
       "      <td>0</td>\n",
       "      <td>98053</td>\n",
       "      <td>47.6561</td>\n",
       "      <td>-122.005</td>\n",
       "      <td>4760</td>\n",
       "      <td>101930</td>\n",
       "    </tr>\n",
       "    <tr>\n",
       "      <th>7</th>\n",
       "      <td>1321400060</td>\n",
       "      <td>20140627T000000</td>\n",
       "      <td>257500</td>\n",
       "      <td>3</td>\n",
       "      <td>2.25</td>\n",
       "      <td>1715</td>\n",
       "      <td>6819</td>\n",
       "      <td>2.0</td>\n",
       "      <td>0</td>\n",
       "      <td>0</td>\n",
       "      <td>...</td>\n",
       "      <td>7</td>\n",
       "      <td>1715</td>\n",
       "      <td>0</td>\n",
       "      <td>1995</td>\n",
       "      <td>0</td>\n",
       "      <td>98003</td>\n",
       "      <td>47.3097</td>\n",
       "      <td>-122.327</td>\n",
       "      <td>2238</td>\n",
       "      <td>6819</td>\n",
       "    </tr>\n",
       "  </tbody>\n",
       "</table>\n",
       "<p>5 rows × 21 columns</p>\n",
       "</div>"
      ],
      "text/plain": [
       "           id             date    price  bedrooms  bathrooms  sqft_living  \\\n",
       "2  6414100192  20141209T000000   538000         3       2.25         2570   \n",
       "4  2487200875  20141209T000000   604000         4       3.00         1960   \n",
       "5  1954400510  20150218T000000   510000         3       2.00         1680   \n",
       "6  7237550310  20140512T000000  1225000         4       4.50         5420   \n",
       "7  1321400060  20140627T000000   257500         3       2.25         1715   \n",
       "\n",
       "   sqft_lot  floors  waterfront  view  ...  grade  sqft_above  sqft_basement  \\\n",
       "2      7242     2.0           0     0  ...      7        2170            400   \n",
       "4      5000     1.0           0     0  ...      7        1050            910   \n",
       "5      8080     1.0           0     0  ...      8        1680              0   \n",
       "6    101930     1.0           0     0  ...     11        3890           1530   \n",
       "7      6819     2.0           0     0  ...      7        1715              0   \n",
       "\n",
       "   yr_built  yr_renovated  zipcode      lat     long  sqft_living15  \\\n",
       "2      1951          1991    98125  47.7210 -122.319           1690   \n",
       "4      1965             0    98136  47.5208 -122.393           1360   \n",
       "5      1987             0    98074  47.6168 -122.045           1800   \n",
       "6      2001             0    98053  47.6561 -122.005           4760   \n",
       "7      1995             0    98003  47.3097 -122.327           2238   \n",
       "\n",
       "   sqft_lot15  \n",
       "2        7639  \n",
       "4        5000  \n",
       "5        7503  \n",
       "6      101930  \n",
       "7        6819  \n",
       "\n",
       "[5 rows x 21 columns]"
      ]
     },
     "execution_count": 194,
     "metadata": {},
     "output_type": "execute_result"
    }
   ],
   "source": [
    "train.head()"
   ]
  },
  {
   "cell_type": "code",
   "execution_count": 195,
   "metadata": {},
   "outputs": [
    {
     "data": {
      "text/plain": [
       "(15129, 21)"
      ]
     },
     "execution_count": 195,
     "metadata": {},
     "output_type": "execute_result"
    }
   ],
   "source": [
    "train.shape"
   ]
  },
  {
   "cell_type": "code",
   "execution_count": 196,
   "metadata": {},
   "outputs": [],
   "source": [
    "train.dropna(inplace = True)\n",
    "test.dropna(inplace = True)"
   ]
  },
  {
   "cell_type": "code",
   "execution_count": 197,
   "metadata": {},
   "outputs": [
    {
     "data": {
      "text/plain": [
       "(15129, 21)"
      ]
     },
     "execution_count": 197,
     "metadata": {},
     "output_type": "execute_result"
    }
   ],
   "source": [
    "train.shape"
   ]
  },
  {
   "cell_type": "markdown",
   "metadata": {},
   "source": [
    "As before, we add the OHE \"zipcode\"."
   ]
  },
  {
   "cell_type": "code",
   "execution_count": 198,
   "metadata": {},
   "outputs": [],
   "source": [
    "ohe = OneHotEncoder()\n",
    "categories_train = ohe.fit_transform(train.loc[:, ['zipcode']]).toarray()"
   ]
  },
  {
   "cell_type": "code",
   "execution_count": 199,
   "metadata": {},
   "outputs": [
    {
     "data": {
      "text/plain": [
       "array([98001, 98002, 98003, 98004, 98005, 98006, 98007, 98008, 98010,\n",
       "       98011, 98014, 98019, 98022, 98023, 98024, 98027, 98028, 98029,\n",
       "       98030, 98031, 98032, 98033, 98034, 98038, 98039, 98040, 98042,\n",
       "       98045, 98052, 98053, 98055, 98056, 98058, 98059, 98065, 98070,\n",
       "       98072, 98074, 98075, 98077, 98092, 98102, 98103, 98105, 98106,\n",
       "       98107, 98108, 98109, 98112, 98115, 98116, 98117, 98118, 98119,\n",
       "       98122, 98125, 98126, 98133, 98136, 98144, 98146, 98148, 98155,\n",
       "       98166, 98168, 98177, 98178, 98188, 98198, 98199])"
      ]
     },
     "execution_count": 199,
     "metadata": {},
     "output_type": "execute_result"
    }
   ],
   "source": [
    "ohe.categories_[0]"
   ]
  },
  {
   "cell_type": "code",
   "execution_count": 200,
   "metadata": {},
   "outputs": [],
   "source": [
    "categories_test = ohe.transform(test.loc[:, ['zipcode']]).toarray()"
   ]
  },
  {
   "cell_type": "code",
   "execution_count": 201,
   "metadata": {},
   "outputs": [],
   "source": [
    "for i, cat in enumerate(ohe.categories_[0]):\n",
    "    train[str(cat)] = categories_train[:, i]\n",
    "    test[str(cat)] = categories_test[:, i]"
   ]
  },
  {
   "cell_type": "code",
   "execution_count": 202,
   "metadata": {},
   "outputs": [],
   "source": [
    "train.drop(['zipcode'], axis = 1, inplace = True)\n",
    "test.drop(['zipcode'], axis = 1, inplace = True)"
   ]
  },
  {
   "cell_type": "code",
   "execution_count": 203,
   "metadata": {},
   "outputs": [
    {
     "data": {
      "text/plain": [
       "Index(['id', 'date', 'price', 'bedrooms', 'bathrooms', 'sqft_living',\n",
       "       'sqft_lot', 'floors', 'waterfront', 'view', 'condition', 'grade',\n",
       "       'sqft_above', 'sqft_basement', 'yr_built', 'yr_renovated', 'lat',\n",
       "       'long', 'sqft_living15', 'sqft_lot15', '98001', '98002', '98003',\n",
       "       '98004', '98005', '98006', '98007', '98008', '98010', '98011', '98014',\n",
       "       '98019', '98022', '98023', '98024', '98027', '98028', '98029', '98030',\n",
       "       '98031', '98032', '98033', '98034', '98038', '98039', '98040', '98042',\n",
       "       '98045', '98052', '98053', '98055', '98056', '98058', '98059', '98065',\n",
       "       '98070', '98072', '98074', '98075', '98077', '98092', '98102', '98103',\n",
       "       '98105', '98106', '98107', '98108', '98109', '98112', '98115', '98116',\n",
       "       '98117', '98118', '98119', '98122', '98125', '98126', '98133', '98136',\n",
       "       '98144', '98146', '98148', '98155', '98166', '98168', '98177', '98178',\n",
       "       '98188', '98198', '98199'],\n",
       "      dtype='object')"
      ]
     },
     "execution_count": 203,
     "metadata": {},
     "output_type": "execute_result"
    }
   ],
   "source": [
    "train.columns.unique()"
   ]
  },
  {
   "cell_type": "code",
   "execution_count": 204,
   "metadata": {},
   "outputs": [
    {
     "data": {
      "text/plain": [
       "(6484, 90)"
      ]
     },
     "execution_count": 204,
     "metadata": {},
     "output_type": "execute_result"
    }
   ],
   "source": [
    "test.shape"
   ]
  },
  {
   "cell_type": "code",
   "execution_count": 205,
   "metadata": {},
   "outputs": [
    {
     "data": {
      "text/html": [
       "<div>\n",
       "<style scoped>\n",
       "    .dataframe tbody tr th:only-of-type {\n",
       "        vertical-align: middle;\n",
       "    }\n",
       "\n",
       "    .dataframe tbody tr th {\n",
       "        vertical-align: top;\n",
       "    }\n",
       "\n",
       "    .dataframe thead th {\n",
       "        text-align: right;\n",
       "    }\n",
       "</style>\n",
       "<table border=\"1\" class=\"dataframe\">\n",
       "  <thead>\n",
       "    <tr style=\"text-align: right;\">\n",
       "      <th></th>\n",
       "      <th>id</th>\n",
       "      <th>price</th>\n",
       "      <th>bedrooms</th>\n",
       "      <th>bathrooms</th>\n",
       "      <th>sqft_living</th>\n",
       "      <th>sqft_lot</th>\n",
       "      <th>floors</th>\n",
       "      <th>waterfront</th>\n",
       "      <th>view</th>\n",
       "      <th>condition</th>\n",
       "      <th>...</th>\n",
       "      <th>98146</th>\n",
       "      <th>98148</th>\n",
       "      <th>98155</th>\n",
       "      <th>98166</th>\n",
       "      <th>98168</th>\n",
       "      <th>98177</th>\n",
       "      <th>98178</th>\n",
       "      <th>98188</th>\n",
       "      <th>98198</th>\n",
       "      <th>98199</th>\n",
       "    </tr>\n",
       "  </thead>\n",
       "  <tbody>\n",
       "    <tr>\n",
       "      <th>count</th>\n",
       "      <td>1.512900e+04</td>\n",
       "      <td>1.512900e+04</td>\n",
       "      <td>15129.000000</td>\n",
       "      <td>15129.000000</td>\n",
       "      <td>15129.000000</td>\n",
       "      <td>1.512900e+04</td>\n",
       "      <td>15129.000000</td>\n",
       "      <td>15129.000000</td>\n",
       "      <td>15129.000000</td>\n",
       "      <td>15129.000000</td>\n",
       "      <td>...</td>\n",
       "      <td>15129.000000</td>\n",
       "      <td>15129.000000</td>\n",
       "      <td>15129.000000</td>\n",
       "      <td>15129.000000</td>\n",
       "      <td>15129.000000</td>\n",
       "      <td>15129.000000</td>\n",
       "      <td>15129.000000</td>\n",
       "      <td>15129.000000</td>\n",
       "      <td>15129.000000</td>\n",
       "      <td>15129.000000</td>\n",
       "    </tr>\n",
       "    <tr>\n",
       "      <th>mean</th>\n",
       "      <td>4.561012e+09</td>\n",
       "      <td>5.381469e+05</td>\n",
       "      <td>3.365854</td>\n",
       "      <td>2.107327</td>\n",
       "      <td>2069.595743</td>\n",
       "      <td>1.469552e+04</td>\n",
       "      <td>1.490878</td>\n",
       "      <td>0.007403</td>\n",
       "      <td>0.234649</td>\n",
       "      <td>3.409545</td>\n",
       "      <td>...</td>\n",
       "      <td>0.012625</td>\n",
       "      <td>0.002776</td>\n",
       "      <td>0.020953</td>\n",
       "      <td>0.011369</td>\n",
       "      <td>0.012757</td>\n",
       "      <td>0.011435</td>\n",
       "      <td>0.011898</td>\n",
       "      <td>0.006081</td>\n",
       "      <td>0.013087</td>\n",
       "      <td>0.015467</td>\n",
       "    </tr>\n",
       "    <tr>\n",
       "      <th>std</th>\n",
       "      <td>2.868152e+09</td>\n",
       "      <td>3.674490e+05</td>\n",
       "      <td>0.938624</td>\n",
       "      <td>0.772123</td>\n",
       "      <td>918.759850</td>\n",
       "      <td>3.887165e+04</td>\n",
       "      <td>0.539352</td>\n",
       "      <td>0.085724</td>\n",
       "      <td>0.769640</td>\n",
       "      <td>0.651771</td>\n",
       "      <td>...</td>\n",
       "      <td>0.111652</td>\n",
       "      <td>0.052618</td>\n",
       "      <td>0.143232</td>\n",
       "      <td>0.106021</td>\n",
       "      <td>0.112228</td>\n",
       "      <td>0.106325</td>\n",
       "      <td>0.108429</td>\n",
       "      <td>0.077746</td>\n",
       "      <td>0.113653</td>\n",
       "      <td>0.123405</td>\n",
       "    </tr>\n",
       "    <tr>\n",
       "      <th>min</th>\n",
       "      <td>1.000102e+06</td>\n",
       "      <td>8.100000e+04</td>\n",
       "      <td>0.000000</td>\n",
       "      <td>0.000000</td>\n",
       "      <td>290.000000</td>\n",
       "      <td>6.000000e+02</td>\n",
       "      <td>1.000000</td>\n",
       "      <td>0.000000</td>\n",
       "      <td>0.000000</td>\n",
       "      <td>1.000000</td>\n",
       "      <td>...</td>\n",
       "      <td>0.000000</td>\n",
       "      <td>0.000000</td>\n",
       "      <td>0.000000</td>\n",
       "      <td>0.000000</td>\n",
       "      <td>0.000000</td>\n",
       "      <td>0.000000</td>\n",
       "      <td>0.000000</td>\n",
       "      <td>0.000000</td>\n",
       "      <td>0.000000</td>\n",
       "      <td>0.000000</td>\n",
       "    </tr>\n",
       "    <tr>\n",
       "      <th>25%</th>\n",
       "      <td>2.121000e+09</td>\n",
       "      <td>3.220000e+05</td>\n",
       "      <td>3.000000</td>\n",
       "      <td>1.500000</td>\n",
       "      <td>1420.000000</td>\n",
       "      <td>5.030000e+03</td>\n",
       "      <td>1.000000</td>\n",
       "      <td>0.000000</td>\n",
       "      <td>0.000000</td>\n",
       "      <td>3.000000</td>\n",
       "      <td>...</td>\n",
       "      <td>0.000000</td>\n",
       "      <td>0.000000</td>\n",
       "      <td>0.000000</td>\n",
       "      <td>0.000000</td>\n",
       "      <td>0.000000</td>\n",
       "      <td>0.000000</td>\n",
       "      <td>0.000000</td>\n",
       "      <td>0.000000</td>\n",
       "      <td>0.000000</td>\n",
       "      <td>0.000000</td>\n",
       "    </tr>\n",
       "    <tr>\n",
       "      <th>50%</th>\n",
       "      <td>3.885808e+09</td>\n",
       "      <td>4.500000e+05</td>\n",
       "      <td>3.000000</td>\n",
       "      <td>2.250000</td>\n",
       "      <td>1900.000000</td>\n",
       "      <td>7.577000e+03</td>\n",
       "      <td>1.500000</td>\n",
       "      <td>0.000000</td>\n",
       "      <td>0.000000</td>\n",
       "      <td>3.000000</td>\n",
       "      <td>...</td>\n",
       "      <td>0.000000</td>\n",
       "      <td>0.000000</td>\n",
       "      <td>0.000000</td>\n",
       "      <td>0.000000</td>\n",
       "      <td>0.000000</td>\n",
       "      <td>0.000000</td>\n",
       "      <td>0.000000</td>\n",
       "      <td>0.000000</td>\n",
       "      <td>0.000000</td>\n",
       "      <td>0.000000</td>\n",
       "    </tr>\n",
       "    <tr>\n",
       "      <th>75%</th>\n",
       "      <td>7.299500e+09</td>\n",
       "      <td>6.400000e+05</td>\n",
       "      <td>4.000000</td>\n",
       "      <td>2.500000</td>\n",
       "      <td>2540.000000</td>\n",
       "      <td>1.060900e+04</td>\n",
       "      <td>2.000000</td>\n",
       "      <td>0.000000</td>\n",
       "      <td>0.000000</td>\n",
       "      <td>4.000000</td>\n",
       "      <td>...</td>\n",
       "      <td>0.000000</td>\n",
       "      <td>0.000000</td>\n",
       "      <td>0.000000</td>\n",
       "      <td>0.000000</td>\n",
       "      <td>0.000000</td>\n",
       "      <td>0.000000</td>\n",
       "      <td>0.000000</td>\n",
       "      <td>0.000000</td>\n",
       "      <td>0.000000</td>\n",
       "      <td>0.000000</td>\n",
       "    </tr>\n",
       "    <tr>\n",
       "      <th>max</th>\n",
       "      <td>9.900000e+09</td>\n",
       "      <td>7.700000e+06</td>\n",
       "      <td>33.000000</td>\n",
       "      <td>8.000000</td>\n",
       "      <td>13540.000000</td>\n",
       "      <td>1.651359e+06</td>\n",
       "      <td>3.500000</td>\n",
       "      <td>1.000000</td>\n",
       "      <td>4.000000</td>\n",
       "      <td>5.000000</td>\n",
       "      <td>...</td>\n",
       "      <td>1.000000</td>\n",
       "      <td>1.000000</td>\n",
       "      <td>1.000000</td>\n",
       "      <td>1.000000</td>\n",
       "      <td>1.000000</td>\n",
       "      <td>1.000000</td>\n",
       "      <td>1.000000</td>\n",
       "      <td>1.000000</td>\n",
       "      <td>1.000000</td>\n",
       "      <td>1.000000</td>\n",
       "    </tr>\n",
       "  </tbody>\n",
       "</table>\n",
       "<p>8 rows × 89 columns</p>\n",
       "</div>"
      ],
      "text/plain": [
       "                 id         price      bedrooms     bathrooms   sqft_living  \\\n",
       "count  1.512900e+04  1.512900e+04  15129.000000  15129.000000  15129.000000   \n",
       "mean   4.561012e+09  5.381469e+05      3.365854      2.107327   2069.595743   \n",
       "std    2.868152e+09  3.674490e+05      0.938624      0.772123    918.759850   \n",
       "min    1.000102e+06  8.100000e+04      0.000000      0.000000    290.000000   \n",
       "25%    2.121000e+09  3.220000e+05      3.000000      1.500000   1420.000000   \n",
       "50%    3.885808e+09  4.500000e+05      3.000000      2.250000   1900.000000   \n",
       "75%    7.299500e+09  6.400000e+05      4.000000      2.500000   2540.000000   \n",
       "max    9.900000e+09  7.700000e+06     33.000000      8.000000  13540.000000   \n",
       "\n",
       "           sqft_lot        floors    waterfront          view     condition  \\\n",
       "count  1.512900e+04  15129.000000  15129.000000  15129.000000  15129.000000   \n",
       "mean   1.469552e+04      1.490878      0.007403      0.234649      3.409545   \n",
       "std    3.887165e+04      0.539352      0.085724      0.769640      0.651771   \n",
       "min    6.000000e+02      1.000000      0.000000      0.000000      1.000000   \n",
       "25%    5.030000e+03      1.000000      0.000000      0.000000      3.000000   \n",
       "50%    7.577000e+03      1.500000      0.000000      0.000000      3.000000   \n",
       "75%    1.060900e+04      2.000000      0.000000      0.000000      4.000000   \n",
       "max    1.651359e+06      3.500000      1.000000      4.000000      5.000000   \n",
       "\n",
       "       ...         98146         98148         98155         98166  \\\n",
       "count  ...  15129.000000  15129.000000  15129.000000  15129.000000   \n",
       "mean   ...      0.012625      0.002776      0.020953      0.011369   \n",
       "std    ...      0.111652      0.052618      0.143232      0.106021   \n",
       "min    ...      0.000000      0.000000      0.000000      0.000000   \n",
       "25%    ...      0.000000      0.000000      0.000000      0.000000   \n",
       "50%    ...      0.000000      0.000000      0.000000      0.000000   \n",
       "75%    ...      0.000000      0.000000      0.000000      0.000000   \n",
       "max    ...      1.000000      1.000000      1.000000      1.000000   \n",
       "\n",
       "              98168         98177         98178         98188         98198  \\\n",
       "count  15129.000000  15129.000000  15129.000000  15129.000000  15129.000000   \n",
       "mean       0.012757      0.011435      0.011898      0.006081      0.013087   \n",
       "std        0.112228      0.106325      0.108429      0.077746      0.113653   \n",
       "min        0.000000      0.000000      0.000000      0.000000      0.000000   \n",
       "25%        0.000000      0.000000      0.000000      0.000000      0.000000   \n",
       "50%        0.000000      0.000000      0.000000      0.000000      0.000000   \n",
       "75%        0.000000      0.000000      0.000000      0.000000      0.000000   \n",
       "max        1.000000      1.000000      1.000000      1.000000      1.000000   \n",
       "\n",
       "              98199  \n",
       "count  15129.000000  \n",
       "mean       0.015467  \n",
       "std        0.123405  \n",
       "min        0.000000  \n",
       "25%        0.000000  \n",
       "50%        0.000000  \n",
       "75%        0.000000  \n",
       "max        1.000000  \n",
       "\n",
       "[8 rows x 89 columns]"
      ]
     },
     "execution_count": 205,
     "metadata": {},
     "output_type": "execute_result"
    }
   ],
   "source": [
    "train.describe()"
   ]
  },
  {
   "cell_type": "code",
   "execution_count": 206,
   "metadata": {},
   "outputs": [],
   "source": [
    "train.drop(['id', 'date'], axis = 1, inplace = True)\n",
    "test.drop(['id', 'date'], axis = 1, inplace = True)"
   ]
  },
  {
   "cell_type": "code",
   "execution_count": 207,
   "metadata": {},
   "outputs": [],
   "source": [
    "X_train, y_train = train.drop(['price'], axis=1), train['price']\n",
    "X_test, y_test = test.drop(['price'], axis=1), test['price']"
   ]
  },
  {
   "cell_type": "code",
   "execution_count": 208,
   "metadata": {},
   "outputs": [],
   "source": [
    "X_train, X_val, y_train, y_val = train_test_split(X_train, y_train, test_size=0.4, random_state=200)"
   ]
  },
  {
   "cell_type": "code",
   "execution_count": 209,
   "metadata": {},
   "outputs": [
    {
     "data": {
      "text/html": [
       "<div>\n",
       "<style scoped>\n",
       "    .dataframe tbody tr th:only-of-type {\n",
       "        vertical-align: middle;\n",
       "    }\n",
       "\n",
       "    .dataframe tbody tr th {\n",
       "        vertical-align: top;\n",
       "    }\n",
       "\n",
       "    .dataframe thead th {\n",
       "        text-align: right;\n",
       "    }\n",
       "</style>\n",
       "<table border=\"1\" class=\"dataframe\">\n",
       "  <thead>\n",
       "    <tr style=\"text-align: right;\">\n",
       "      <th></th>\n",
       "      <th>bedrooms</th>\n",
       "      <th>bathrooms</th>\n",
       "      <th>sqft_living</th>\n",
       "      <th>sqft_lot</th>\n",
       "      <th>floors</th>\n",
       "      <th>waterfront</th>\n",
       "      <th>view</th>\n",
       "      <th>condition</th>\n",
       "      <th>grade</th>\n",
       "      <th>sqft_above</th>\n",
       "      <th>sqft_basement</th>\n",
       "      <th>yr_built</th>\n",
       "      <th>yr_renovated</th>\n",
       "      <th>lat</th>\n",
       "      <th>long</th>\n",
       "      <th>sqft_living15</th>\n",
       "      <th>sqft_lot15</th>\n",
       "      <th>98001</th>\n",
       "    </tr>\n",
       "  </thead>\n",
       "  <tbody>\n",
       "    <tr>\n",
       "      <th>2867</th>\n",
       "      <td>3</td>\n",
       "      <td>2.25</td>\n",
       "      <td>1630</td>\n",
       "      <td>10500</td>\n",
       "      <td>1.0</td>\n",
       "      <td>0</td>\n",
       "      <td>0</td>\n",
       "      <td>3</td>\n",
       "      <td>7</td>\n",
       "      <td>1100</td>\n",
       "      <td>530</td>\n",
       "      <td>1974</td>\n",
       "      <td>0</td>\n",
       "      <td>47.7176</td>\n",
       "      <td>-122.236</td>\n",
       "      <td>1640</td>\n",
       "      <td>9794</td>\n",
       "      <td>0.0</td>\n",
       "    </tr>\n",
       "    <tr>\n",
       "      <th>16875</th>\n",
       "      <td>4</td>\n",
       "      <td>2.50</td>\n",
       "      <td>2280</td>\n",
       "      <td>9827</td>\n",
       "      <td>2.0</td>\n",
       "      <td>0</td>\n",
       "      <td>0</td>\n",
       "      <td>3</td>\n",
       "      <td>8</td>\n",
       "      <td>2280</td>\n",
       "      <td>0</td>\n",
       "      <td>1995</td>\n",
       "      <td>0</td>\n",
       "      <td>47.6883</td>\n",
       "      <td>-122.168</td>\n",
       "      <td>1660</td>\n",
       "      <td>9827</td>\n",
       "      <td>0.0</td>\n",
       "    </tr>\n",
       "    <tr>\n",
       "      <th>3202</th>\n",
       "      <td>2</td>\n",
       "      <td>1.00</td>\n",
       "      <td>1790</td>\n",
       "      <td>4000</td>\n",
       "      <td>1.0</td>\n",
       "      <td>0</td>\n",
       "      <td>0</td>\n",
       "      <td>4</td>\n",
       "      <td>7</td>\n",
       "      <td>1040</td>\n",
       "      <td>750</td>\n",
       "      <td>1923</td>\n",
       "      <td>0</td>\n",
       "      <td>47.6405</td>\n",
       "      <td>-122.301</td>\n",
       "      <td>1310</td>\n",
       "      <td>4000</td>\n",
       "      <td>0.0</td>\n",
       "    </tr>\n",
       "    <tr>\n",
       "      <th>19207</th>\n",
       "      <td>4</td>\n",
       "      <td>2.75</td>\n",
       "      <td>2890</td>\n",
       "      <td>6825</td>\n",
       "      <td>1.0</td>\n",
       "      <td>0</td>\n",
       "      <td>0</td>\n",
       "      <td>3</td>\n",
       "      <td>8</td>\n",
       "      <td>1560</td>\n",
       "      <td>1330</td>\n",
       "      <td>1973</td>\n",
       "      <td>0</td>\n",
       "      <td>47.7340</td>\n",
       "      <td>-122.182</td>\n",
       "      <td>1900</td>\n",
       "      <td>10120</td>\n",
       "      <td>0.0</td>\n",
       "    </tr>\n",
       "    <tr>\n",
       "      <th>13020</th>\n",
       "      <td>3</td>\n",
       "      <td>1.00</td>\n",
       "      <td>1010</td>\n",
       "      <td>6300</td>\n",
       "      <td>1.0</td>\n",
       "      <td>0</td>\n",
       "      <td>0</td>\n",
       "      <td>3</td>\n",
       "      <td>7</td>\n",
       "      <td>1010</td>\n",
       "      <td>0</td>\n",
       "      <td>1957</td>\n",
       "      <td>0</td>\n",
       "      <td>47.7304</td>\n",
       "      <td>-122.352</td>\n",
       "      <td>1480</td>\n",
       "      <td>7480</td>\n",
       "      <td>0.0</td>\n",
       "    </tr>\n",
       "  </tbody>\n",
       "</table>\n",
       "</div>"
      ],
      "text/plain": [
       "       bedrooms  bathrooms  sqft_living  sqft_lot  floors  waterfront  view  \\\n",
       "2867          3       2.25         1630     10500     1.0           0     0   \n",
       "16875         4       2.50         2280      9827     2.0           0     0   \n",
       "3202          2       1.00         1790      4000     1.0           0     0   \n",
       "19207         4       2.75         2890      6825     1.0           0     0   \n",
       "13020         3       1.00         1010      6300     1.0           0     0   \n",
       "\n",
       "       condition  grade  sqft_above  sqft_basement  yr_built  yr_renovated  \\\n",
       "2867           3      7        1100            530      1974             0   \n",
       "16875          3      8        2280              0      1995             0   \n",
       "3202           4      7        1040            750      1923             0   \n",
       "19207          3      8        1560           1330      1973             0   \n",
       "13020          3      7        1010              0      1957             0   \n",
       "\n",
       "           lat     long  sqft_living15  sqft_lot15  98001  \n",
       "2867   47.7176 -122.236           1640        9794    0.0  \n",
       "16875  47.6883 -122.168           1660        9827    0.0  \n",
       "3202   47.6405 -122.301           1310        4000    0.0  \n",
       "19207  47.7340 -122.182           1900       10120    0.0  \n",
       "13020  47.7304 -122.352           1480        7480    0.0  "
      ]
     },
     "execution_count": 209,
     "metadata": {},
     "output_type": "execute_result"
    }
   ],
   "source": [
    "X_train.iloc[:, :18].head()"
   ]
  },
  {
   "cell_type": "code",
   "execution_count": 210,
   "metadata": {},
   "outputs": [],
   "source": [
    "for i, c in enumerate(X_train.columns):\n",
    "    if i<18 and c!='view' and c!='waterfront':\n",
    "        mu, sigma = np.mean(X_train.loc[:, c]), np.std(X_train.loc[:, c])\n",
    "        X_train.loc[:, c] = (X_train.loc[:, c]-mu)/sigma\n",
    "        X_val.loc[:, c] = (X_val.loc[:, c]-mu)/sigma\n",
    "        X_test.loc[:, c] = (X_test.loc[:, c]-mu)/sigma\n",
    "mu_y_train = np.mean(y_train)\n",
    "sigma_y_train = np.std(y_train)\n",
    "y_train = (y_train - mu_y_train)/sigma_y_train"
   ]
  },
  {
   "cell_type": "code",
   "execution_count": 211,
   "metadata": {},
   "outputs": [
    {
     "data": {
      "text/html": [
       "<div>\n",
       "<style scoped>\n",
       "    .dataframe tbody tr th:only-of-type {\n",
       "        vertical-align: middle;\n",
       "    }\n",
       "\n",
       "    .dataframe tbody tr th {\n",
       "        vertical-align: top;\n",
       "    }\n",
       "\n",
       "    .dataframe thead th {\n",
       "        text-align: right;\n",
       "    }\n",
       "</style>\n",
       "<table border=\"1\" class=\"dataframe\">\n",
       "  <thead>\n",
       "    <tr style=\"text-align: right;\">\n",
       "      <th></th>\n",
       "      <th>bedrooms</th>\n",
       "      <th>bathrooms</th>\n",
       "      <th>sqft_living</th>\n",
       "      <th>sqft_lot</th>\n",
       "      <th>floors</th>\n",
       "      <th>waterfront</th>\n",
       "      <th>view</th>\n",
       "      <th>condition</th>\n",
       "      <th>grade</th>\n",
       "      <th>sqft_above</th>\n",
       "      <th>...</th>\n",
       "      <th>98146</th>\n",
       "      <th>98148</th>\n",
       "      <th>98155</th>\n",
       "      <th>98166</th>\n",
       "      <th>98168</th>\n",
       "      <th>98177</th>\n",
       "      <th>98178</th>\n",
       "      <th>98188</th>\n",
       "      <th>98198</th>\n",
       "      <th>98199</th>\n",
       "    </tr>\n",
       "  </thead>\n",
       "  <tbody>\n",
       "    <tr>\n",
       "      <th>2867</th>\n",
       "      <td>-0.378446</td>\n",
       "      <td>0.195006</td>\n",
       "      <td>-0.472042</td>\n",
       "      <td>-0.115888</td>\n",
       "      <td>-0.914479</td>\n",
       "      <td>0</td>\n",
       "      <td>0</td>\n",
       "      <td>-0.630641</td>\n",
       "      <td>-0.555241</td>\n",
       "      <td>-0.820235</td>\n",
       "      <td>...</td>\n",
       "      <td>0.0</td>\n",
       "      <td>0.0</td>\n",
       "      <td>0.0</td>\n",
       "      <td>0.0</td>\n",
       "      <td>0.0</td>\n",
       "      <td>0.0</td>\n",
       "      <td>0.0</td>\n",
       "      <td>0.0</td>\n",
       "      <td>0.0</td>\n",
       "      <td>0.0</td>\n",
       "    </tr>\n",
       "    <tr>\n",
       "      <th>16875</th>\n",
       "      <td>0.674313</td>\n",
       "      <td>0.521767</td>\n",
       "      <td>0.239355</td>\n",
       "      <td>-0.134220</td>\n",
       "      <td>0.923591</td>\n",
       "      <td>0</td>\n",
       "      <td>0</td>\n",
       "      <td>-0.630641</td>\n",
       "      <td>0.297971</td>\n",
       "      <td>0.607077</td>\n",
       "      <td>...</td>\n",
       "      <td>0.0</td>\n",
       "      <td>0.0</td>\n",
       "      <td>0.0</td>\n",
       "      <td>0.0</td>\n",
       "      <td>0.0</td>\n",
       "      <td>0.0</td>\n",
       "      <td>0.0</td>\n",
       "      <td>0.0</td>\n",
       "      <td>0.0</td>\n",
       "      <td>0.0</td>\n",
       "    </tr>\n",
       "    <tr>\n",
       "      <th>3202</th>\n",
       "      <td>-1.431204</td>\n",
       "      <td>-1.438800</td>\n",
       "      <td>-0.296929</td>\n",
       "      <td>-0.292945</td>\n",
       "      <td>-0.914479</td>\n",
       "      <td>0</td>\n",
       "      <td>0</td>\n",
       "      <td>0.901156</td>\n",
       "      <td>-0.555241</td>\n",
       "      <td>-0.892810</td>\n",
       "      <td>...</td>\n",
       "      <td>0.0</td>\n",
       "      <td>0.0</td>\n",
       "      <td>0.0</td>\n",
       "      <td>0.0</td>\n",
       "      <td>0.0</td>\n",
       "      <td>0.0</td>\n",
       "      <td>0.0</td>\n",
       "      <td>0.0</td>\n",
       "      <td>0.0</td>\n",
       "      <td>0.0</td>\n",
       "    </tr>\n",
       "    <tr>\n",
       "      <th>19207</th>\n",
       "      <td>0.674313</td>\n",
       "      <td>0.848528</td>\n",
       "      <td>0.906975</td>\n",
       "      <td>-0.215994</td>\n",
       "      <td>-0.914479</td>\n",
       "      <td>0</td>\n",
       "      <td>0</td>\n",
       "      <td>-0.630641</td>\n",
       "      <td>0.297971</td>\n",
       "      <td>-0.263825</td>\n",
       "      <td>...</td>\n",
       "      <td>0.0</td>\n",
       "      <td>0.0</td>\n",
       "      <td>0.0</td>\n",
       "      <td>0.0</td>\n",
       "      <td>0.0</td>\n",
       "      <td>0.0</td>\n",
       "      <td>0.0</td>\n",
       "      <td>0.0</td>\n",
       "      <td>0.0</td>\n",
       "      <td>0.0</td>\n",
       "    </tr>\n",
       "    <tr>\n",
       "      <th>13020</th>\n",
       "      <td>-0.378446</td>\n",
       "      <td>-1.438800</td>\n",
       "      <td>-1.150606</td>\n",
       "      <td>-0.230294</td>\n",
       "      <td>-0.914479</td>\n",
       "      <td>0</td>\n",
       "      <td>0</td>\n",
       "      <td>-0.630641</td>\n",
       "      <td>-0.555241</td>\n",
       "      <td>-0.929098</td>\n",
       "      <td>...</td>\n",
       "      <td>0.0</td>\n",
       "      <td>0.0</td>\n",
       "      <td>0.0</td>\n",
       "      <td>0.0</td>\n",
       "      <td>0.0</td>\n",
       "      <td>0.0</td>\n",
       "      <td>0.0</td>\n",
       "      <td>0.0</td>\n",
       "      <td>0.0</td>\n",
       "      <td>0.0</td>\n",
       "    </tr>\n",
       "  </tbody>\n",
       "</table>\n",
       "<p>5 rows × 87 columns</p>\n",
       "</div>"
      ],
      "text/plain": [
       "       bedrooms  bathrooms  sqft_living  sqft_lot    floors  waterfront  view  \\\n",
       "2867  -0.378446   0.195006    -0.472042 -0.115888 -0.914479           0     0   \n",
       "16875  0.674313   0.521767     0.239355 -0.134220  0.923591           0     0   \n",
       "3202  -1.431204  -1.438800    -0.296929 -0.292945 -0.914479           0     0   \n",
       "19207  0.674313   0.848528     0.906975 -0.215994 -0.914479           0     0   \n",
       "13020 -0.378446  -1.438800    -1.150606 -0.230294 -0.914479           0     0   \n",
       "\n",
       "       condition     grade  sqft_above  ...  98146  98148  98155  98166  \\\n",
       "2867   -0.630641 -0.555241   -0.820235  ...    0.0    0.0    0.0    0.0   \n",
       "16875  -0.630641  0.297971    0.607077  ...    0.0    0.0    0.0    0.0   \n",
       "3202    0.901156 -0.555241   -0.892810  ...    0.0    0.0    0.0    0.0   \n",
       "19207  -0.630641  0.297971   -0.263825  ...    0.0    0.0    0.0    0.0   \n",
       "13020  -0.630641 -0.555241   -0.929098  ...    0.0    0.0    0.0    0.0   \n",
       "\n",
       "       98168  98177  98178  98188  98198  98199  \n",
       "2867     0.0    0.0    0.0    0.0    0.0    0.0  \n",
       "16875    0.0    0.0    0.0    0.0    0.0    0.0  \n",
       "3202     0.0    0.0    0.0    0.0    0.0    0.0  \n",
       "19207    0.0    0.0    0.0    0.0    0.0    0.0  \n",
       "13020    0.0    0.0    0.0    0.0    0.0    0.0  \n",
       "\n",
       "[5 rows x 87 columns]"
      ]
     },
     "execution_count": 211,
     "metadata": {},
     "output_type": "execute_result"
    }
   ],
   "source": [
    "X_train.head()"
   ]
  },
  {
   "cell_type": "code",
   "execution_count": 212,
   "metadata": {},
   "outputs": [
    {
     "data": {
      "text/plain": [
       "LinearRegression()"
      ]
     },
     "execution_count": 212,
     "metadata": {},
     "output_type": "execute_result"
    }
   ],
   "source": [
    "lr = LinearRegression()\n",
    "lr.fit(X_train,y_train)"
   ]
  },
  {
   "cell_type": "code",
   "execution_count": 213,
   "metadata": {},
   "outputs": [],
   "source": [
    "predictions = lr.predict(X_test)*sigma_y_train + mu_y_train"
   ]
  },
  {
   "cell_type": "code",
   "execution_count": 214,
   "metadata": {},
   "outputs": [
    {
     "data": {
      "text/plain": [
       "0.806439622281405"
      ]
     },
     "execution_count": 214,
     "metadata": {},
     "output_type": "execute_result"
    }
   ],
   "source": [
    "lr.score(X_train, y_train)"
   ]
  },
  {
   "cell_type": "code",
   "execution_count": 215,
   "metadata": {},
   "outputs": [],
   "source": [
    "R2_oos = 1 - np.mean((predictions - y_test)**2)/np.var(y_test)"
   ]
  },
  {
   "cell_type": "code",
   "execution_count": 216,
   "metadata": {},
   "outputs": [
    {
     "data": {
      "text/plain": [
       "0.7977665204038027"
      ]
     },
     "execution_count": 216,
     "metadata": {},
     "output_type": "execute_result"
    }
   ],
   "source": [
    "R2_oos"
   ]
  },
  {
   "cell_type": "markdown",
   "metadata": {},
   "source": [
    "## Adding interaction terms"
   ]
  },
  {
   "cell_type": "code",
   "execution_count": 217,
   "metadata": {},
   "outputs": [],
   "source": [
    "interactions = sorted(['bedrooms', 'bathrooms', 'sqft_living', 'sqft_lot'])"
   ]
  },
  {
   "cell_type": "code",
   "execution_count": 218,
   "metadata": {},
   "outputs": [],
   "source": [
    "for c1 in interactions:\n",
    "    for c2 in interactions:\n",
    "        if c1<c2:\n",
    "            # we add first order intercation term here\n",
    "            X_train[f\"{c1}x{c2}\"] = X_train.loc[:, c1]*X_train.loc[:, c2]\n",
    "            X_val[f\"{c1}x{c2}\"] = X_val.loc[:, c1]*X_val.loc[:, c2]\n",
    "            X_test[f\"{c1}x{c2}\"] = X_test.loc[:, c1]*X_test.loc[:, c2]"
   ]
  },
  {
   "cell_type": "code",
   "execution_count": 219,
   "metadata": {},
   "outputs": [
    {
     "data": {
      "text/plain": [
       "(9077, 93)"
      ]
     },
     "execution_count": 219,
     "metadata": {},
     "output_type": "execute_result"
    }
   ],
   "source": [
    "X_train.shape"
   ]
  },
  {
   "cell_type": "code",
   "execution_count": 220,
   "metadata": {},
   "outputs": [
    {
     "data": {
      "text/plain": [
       "(6052, 93)"
      ]
     },
     "execution_count": 220,
     "metadata": {},
     "output_type": "execute_result"
    }
   ],
   "source": [
    "X_val.shape"
   ]
  },
  {
   "cell_type": "code",
   "execution_count": 221,
   "metadata": {},
   "outputs": [],
   "source": [
    "lr = LinearRegression()"
   ]
  },
  {
   "cell_type": "code",
   "execution_count": 222,
   "metadata": {},
   "outputs": [
    {
     "data": {
      "text/plain": [
       "LinearRegression()"
      ]
     },
     "execution_count": 222,
     "metadata": {},
     "output_type": "execute_result"
    }
   ],
   "source": [
    "lr.fit(X_train,y_train)"
   ]
  },
  {
   "cell_type": "code",
   "execution_count": 223,
   "metadata": {},
   "outputs": [],
   "source": [
    "predictions = lr.predict(X_test)*sigma_y_train + mu_y_train"
   ]
  },
  {
   "cell_type": "code",
   "execution_count": 224,
   "metadata": {},
   "outputs": [
    {
     "data": {
      "text/plain": [
       "0.8482355295948942"
      ]
     },
     "execution_count": 224,
     "metadata": {},
     "output_type": "execute_result"
    }
   ],
   "source": [
    "lr.score(X_train, y_train)"
   ]
  },
  {
   "cell_type": "code",
   "execution_count": 225,
   "metadata": {},
   "outputs": [],
   "source": [
    "R2_oos = 1 - np.mean((predictions - y_test)**2)/np.var(y_test)"
   ]
  },
  {
   "cell_type": "code",
   "execution_count": 226,
   "metadata": {},
   "outputs": [
    {
     "data": {
      "text/plain": [
       "0.8267179989435924"
      ]
     },
     "execution_count": 226,
     "metadata": {},
     "output_type": "execute_result"
    }
   ],
   "source": [
    "R2_oos"
   ]
  },
  {
   "cell_type": "markdown",
   "metadata": {},
   "source": [
    "## Adding splines"
   ]
  },
  {
   "cell_type": "markdown",
   "metadata": {},
   "source": [
    "Let $t_0 = a, t_1, t_2, ..., t_n = b$ be a partition of $[a, b]$. A spline function B of degree d on $[a, b]$ is a piecewise polynomial function of degree d on intervals $[t_i, t_{i+1}] (i \\in [0, n])$ with continuous d-1 derivatives. The knots of B are the points $t_1, ... t_{n-1}$ where the spline might not have continuous $d^{th}$ derivatives."
   ]
  },
  {
   "cell_type": "markdown",
   "metadata": {},
   "source": [
    "In this example, we are going to add quadratic splines with 9 knots which are the *10.i* deciles of the *sqft_living* variable for $i \\in [1, ..., 9]$."
   ]
  },
  {
   "cell_type": "code",
   "execution_count": 227,
   "metadata": {},
   "outputs": [],
   "source": [
    "deciles = np.percentile(X_train.sqft_living, [k*10 for k in range(0, 10)])"
   ]
  },
  {
   "cell_type": "code",
   "execution_count": 228,
   "metadata": {},
   "outputs": [],
   "source": [
    "for i, tau in enumerate(deciles):\n",
    "    \n",
    "    temp_train = X_train.sqft_living - tau\n",
    "    temp_train[temp_train<0] = 0\n",
    "    \n",
    "    temp_val = X_val.sqft_living - tau\n",
    "    temp_val[temp_val<0] = 0\n",
    "    \n",
    "    temp_test = X_test.sqft_living - tau\n",
    "    temp_test[temp_test<0] = 0\n",
    "    \n",
    "    X_train[f\"sqft_living_spline_{i}\"] = temp_train**2\n",
    "    X_val[f\"sqft_living_spline_{i}\"] = temp_val**2\n",
    "    X_test[f\"sqft_living_spline_{i}\"] = temp_test**2"
   ]
  },
  {
   "cell_type": "code",
   "execution_count": 229,
   "metadata": {},
   "outputs": [
    {
     "data": {
      "text/plain": [
       "LinearRegression()"
      ]
     },
     "execution_count": 229,
     "metadata": {},
     "output_type": "execute_result"
    }
   ],
   "source": [
    "lr.fit(X_train,y_train)"
   ]
  },
  {
   "cell_type": "code",
   "execution_count": 230,
   "metadata": {},
   "outputs": [],
   "source": [
    "predictions = lr.predict(X_test)*sigma_y_train + mu_y_train"
   ]
  },
  {
   "cell_type": "code",
   "execution_count": 231,
   "metadata": {},
   "outputs": [
    {
     "data": {
      "text/plain": [
       "0.8536899187436561"
      ]
     },
     "execution_count": 231,
     "metadata": {},
     "output_type": "execute_result"
    }
   ],
   "source": [
    "lr.score(X_train, y_train)"
   ]
  },
  {
   "cell_type": "code",
   "execution_count": 232,
   "metadata": {},
   "outputs": [],
   "source": [
    "R2_oos = 1 - np.mean((predictions - y_test)**2)/np.var(y_test)"
   ]
  },
  {
   "cell_type": "code",
   "execution_count": 233,
   "metadata": {},
   "outputs": [
    {
     "data": {
      "text/plain": [
       "0.8337806755478809"
      ]
     },
     "execution_count": 233,
     "metadata": {},
     "output_type": "execute_result"
    }
   ],
   "source": [
    "R2_oos"
   ]
  },
  {
   "cell_type": "markdown",
   "metadata": {},
   "source": [
    "## Bagging"
   ]
  },
  {
   "cell_type": "code",
   "execution_count": 239,
   "metadata": {},
   "outputs": [],
   "source": [
    "regr = BaggingRegressor(base_estimator=LinearRegression(), n_estimators=100, random_state=15).fit(X_train, y_train)"
   ]
  },
  {
   "cell_type": "code",
   "execution_count": 240,
   "metadata": {},
   "outputs": [
    {
     "data": {
      "text/plain": [
       "0.8535919774712412"
      ]
     },
     "execution_count": 240,
     "metadata": {},
     "output_type": "execute_result"
    }
   ],
   "source": [
    "regr.score(X_train, y_train)"
   ]
  },
  {
   "cell_type": "code",
   "execution_count": 241,
   "metadata": {},
   "outputs": [],
   "source": [
    "predictions = regr.predict(X_test)*sigma_y_train + mu_y_train"
   ]
  },
  {
   "cell_type": "code",
   "execution_count": 242,
   "metadata": {},
   "outputs": [],
   "source": [
    "R2_oos = 1 - np.mean((predictions - y_test)**2)/np.var(y_test)"
   ]
  },
  {
   "cell_type": "code",
   "execution_count": 243,
   "metadata": {},
   "outputs": [
    {
     "data": {
      "text/plain": [
       "0.833458507045874"
      ]
     },
     "execution_count": 243,
     "metadata": {},
     "output_type": "execute_result"
    }
   ],
   "source": [
    "R2_oos"
   ]
  },
  {
   "cell_type": "markdown",
   "metadata": {},
   "source": [
    "## Boosting "
   ]
  },
  {
   "cell_type": "code",
   "execution_count": 244,
   "metadata": {},
   "outputs": [],
   "source": [
    "regr = GradientBoostingRegressor(n_estimators=1000, random_state=15).fit(X_train, y_train)"
   ]
  },
  {
   "cell_type": "code",
   "execution_count": 245,
   "metadata": {},
   "outputs": [
    {
     "data": {
      "text/plain": [
       "0.974251655589121"
      ]
     },
     "execution_count": 245,
     "metadata": {},
     "output_type": "execute_result"
    }
   ],
   "source": [
    "regr.score(X_train, y_train)"
   ]
  },
  {
   "cell_type": "code",
   "execution_count": 246,
   "metadata": {},
   "outputs": [],
   "source": [
    "predictions = regr.predict(X_test)*sigma_y_train + mu_y_train"
   ]
  },
  {
   "cell_type": "code",
   "execution_count": 247,
   "metadata": {},
   "outputs": [],
   "source": [
    "R2_oos = 1 - np.mean((predictions - y_test)**2)/np.var(y_test)"
   ]
  },
  {
   "cell_type": "code",
   "execution_count": 248,
   "metadata": {},
   "outputs": [
    {
     "data": {
      "text/plain": [
       "0.8814701802524263"
      ]
     },
     "execution_count": 248,
     "metadata": {},
     "output_type": "execute_result"
    }
   ],
   "source": [
    "R2_oos"
   ]
  },
  {
   "cell_type": "markdown",
   "metadata": {},
   "source": [
    "## Random Forests"
   ]
  },
  {
   "cell_type": "code",
   "execution_count": 254,
   "metadata": {},
   "outputs": [],
   "source": [
    "regr = RandomForestRegressor(n_estimators=100, random_state=15).fit(X_train, y_train)"
   ]
  },
  {
   "cell_type": "code",
   "execution_count": 255,
   "metadata": {},
   "outputs": [
    {
     "data": {
      "text/plain": [
       "0.9815722623087599"
      ]
     },
     "execution_count": 255,
     "metadata": {},
     "output_type": "execute_result"
    }
   ],
   "source": [
    "regr.score(X_train, y_train)"
   ]
  },
  {
   "cell_type": "code",
   "execution_count": 256,
   "metadata": {},
   "outputs": [],
   "source": [
    "predictions = regr.predict(X_test)*sigma_y_train + mu_y_train"
   ]
  },
  {
   "cell_type": "code",
   "execution_count": 257,
   "metadata": {},
   "outputs": [],
   "source": [
    "R2_oos = 1 - np.mean((predictions - y_test)**2)/np.var(y_test)"
   ]
  },
  {
   "cell_type": "code",
   "execution_count": 258,
   "metadata": {},
   "outputs": [
    {
     "data": {
      "text/plain": [
       "0.8474176810965217"
      ]
     },
     "execution_count": 258,
     "metadata": {},
     "output_type": "execute_result"
    }
   ],
   "source": [
    "R2_oos"
   ]
  },
  {
   "cell_type": "markdown",
   "metadata": {},
   "source": [
    "## Cross-validation"
   ]
  },
  {
   "cell_type": "markdown",
   "metadata": {},
   "source": [
    "Until now, to perform model selection, we either used in-sample validation or validation set validation. Both methods, while good starting points, is often less accurate than cross-validation to estimate prediction error and less robust against overfitting."
   ]
  },
  {
   "cell_type": "markdown",
   "metadata": {},
   "source": [
    "Cross-validation gives you more stable metrics for how a model is likely to perform because it helps reduce bias. It also helps overcome overfitting and is effective when your (train and test) dataset is small."
   ]
  },
  {
   "cell_type": "code",
   "execution_count": 151,
   "metadata": {},
   "outputs": [],
   "source": [
    "kf = KFold(n_splits=10, shuffle=False)"
   ]
  },
  {
   "cell_type": "code",
   "execution_count": 152,
   "metadata": {},
   "outputs": [],
   "source": [
    "train = pd.read_csv(\"train.data.csv\", low_memory = False, index_col = 0)\n",
    "test = pd.read_csv(\"test.data.csv\", low_memory = False, index_col = 0)\n",
    "train.dropna(inplace = True)\n",
    "test.dropna(inplace = True)\n",
    "ohe = OneHotEncoder()\n",
    "categories_train = ohe.fit_transform(train.loc[:, ['zipcode']]).toarray()\n",
    "categories_test = ohe.transform(test.loc[:, ['zipcode']]).toarray()"
   ]
  },
  {
   "cell_type": "code",
   "execution_count": 153,
   "metadata": {},
   "outputs": [],
   "source": [
    "for i, cat in enumerate(ohe.categories_[0]):\n",
    "    train[str(cat)] = categories_train[:, i]\n",
    "    test[str(cat)] = categories_test[:, i]"
   ]
  },
  {
   "cell_type": "code",
   "execution_count": 154,
   "metadata": {},
   "outputs": [],
   "source": [
    "train.drop(['zipcode'], axis = 1, inplace = True)\n",
    "test.drop(['zipcode'], axis = 1, inplace = True)"
   ]
  },
  {
   "cell_type": "code",
   "execution_count": 157,
   "metadata": {},
   "outputs": [],
   "source": [
    "train.drop(['id', 'date'], axis = 1, inplace = True)\n",
    "test.drop(['id', 'date'], axis = 1, inplace = True)"
   ]
  },
  {
   "cell_type": "code",
   "execution_count": 158,
   "metadata": {},
   "outputs": [],
   "source": [
    "full = pd.concat([train, test], axis = 0)"
   ]
  },
  {
   "cell_type": "code",
   "execution_count": 173,
   "metadata": {},
   "outputs": [
    {
     "name": "stderr",
     "output_type": "stream",
     "text": [
      "100%|██████████| 10/10 [12:39<00:00, 75.99s/it] \n"
     ]
    }
   ],
   "source": [
    "n_estimators = [10*k for k in range(1, 11)]\n",
    "R2opt = 0\n",
    "nopt = 0\n",
    "for n in tqdm(n_estimators):\n",
    "    score_n = []\n",
    "    for i, (train_index, test_index) in enumerate(kf.split(full)):\n",
    "        train, test = full.iloc[train_index, :], full.iloc[test_index, :]\n",
    "        X_train, y_train, X_test, y_test = train.iloc[:, 1:], train.iloc[:, 0], test.iloc[:, 1:], test.iloc[:, 0]\n",
    "        regr = BaggingRegressor(base_estimator=LinearRegression(), n_estimators=n, random_state=15).fit(X_train, y_train)\n",
    "        curr_score = regr.score(X_test, y_test)\n",
    "        score_n.append(curr_score)\n",
    "    if np.mean(score_n)>R2opt:\n",
    "        R2opt = np.mean(score_n)\n",
    "        nopt = n"
   ]
  },
  {
   "cell_type": "code",
   "execution_count": 174,
   "metadata": {},
   "outputs": [
    {
     "data": {
      "text/plain": [
       "80"
      ]
     },
     "execution_count": 174,
     "metadata": {},
     "output_type": "execute_result"
    }
   ],
   "source": [
    "nopt"
   ]
  },
  {
   "cell_type": "code",
   "execution_count": 175,
   "metadata": {},
   "outputs": [
    {
     "data": {
      "text/plain": [
       "0.8059129025560965"
      ]
     },
     "execution_count": 175,
     "metadata": {},
     "output_type": "execute_result"
    }
   ],
   "source": [
    "R2opt"
   ]
  }
 ],
 "metadata": {
  "kernelspec": {
   "display_name": "Python 3 (ipykernel)",
   "language": "python",
   "name": "python3"
  },
  "language_info": {
   "codemirror_mode": {
    "name": "ipython",
    "version": 3
   },
   "file_extension": ".py",
   "mimetype": "text/x-python",
   "name": "python",
   "nbconvert_exporter": "python",
   "pygments_lexer": "ipython3",
   "version": "3.7.16"
  }
 },
 "nbformat": 4,
 "nbformat_minor": 4
}
