{
 "cells": [
  {
   "attachments": {},
   "cell_type": "markdown",
   "metadata": {},
   "source": [
    "# Understanding convolutions"
   ]
  },
  {
   "attachments": {},
   "cell_type": "markdown",
   "metadata": {},
   "source": [
    "## a. Cross-correlation operation"
   ]
  },
  {
   "attachments": {},
   "cell_type": "markdown",
   "metadata": {},
   "source": [
    "\\begin{bmatrix}\n",
    "0 & 1 & 2\\\\\n",
    "3 & 4 & 5\\\\\n",
    "6 & 7 & 8\n",
    "\\end{bmatrix} * \\begin{bmatrix}\n",
    "0 & 1\\\\\n",
    "2 & 3\n",
    "\\end{bmatrix} = \\begin{bmatrix}\n",
    "19 & 25\\\\\n",
    "37 & 43\n",
    "\\end{bmatrix}"
   ]
  },
  {
   "attachments": {},
   "cell_type": "markdown",
   "metadata": {},
   "source": [
    "In the two-dimensional cross-correlation operation, we begin with the convolution window positioned at the upper-left corner of the input tensor and slide it across the input tensor, both from left to right and top to bottom. When the convolution window slides to a certain position, the input subtensor contained in that window and the kernel tensor are multiplied elementwise and the resulting tensor is summed up yielding a single scalar value. This result gives the value of the output tensor at the corresponding location. Here, the output tensor has a height of 2 and width of 2 and the four elements are derived from the two-dimensional cross-correlation operation:"
   ]
  },
  {
   "attachments": {},
   "cell_type": "markdown",
   "metadata": {},
   "source": [
    "\\begin{split}0\\times0+1\\times1+3\\times2+4\\times3=19,\\\\\n",
    "1\\times0+2\\times1+4\\times2+5\\times3=25,\\\\\n",
    "3\\times0+4\\times1+6\\times2+7\\times3=37,\\\\\n",
    "4\\times0+5\\times1+7\\times2+8\\times3=43.\\end{split}"
   ]
  },
  {
   "attachments": {},
   "cell_type": "markdown",
   "metadata": {},
   "source": [
    "Note that along each axis, the output size is slightly smaller than the input size. Because the kernel has width and height greater than one, we can only properly compute the cross-correlation for locations where the kernel fits wholly within the image, the output size is given by the input size $n_h*n_w$ minus the size of the convolution kernel $k_h*k_w$ via $(n_h - k_h + 1) * (n_w - k_w + 1)$."
   ]
  },
  {
   "attachments": {},
   "cell_type": "markdown",
   "metadata": {},
   "source": [
    "This is the case since we need enough space to shift the convolution kernel across the image. `It is possible to keep the size unchanged by padding the image with zeros around its boundary so that there is enough space to shift the kernel`."
   ]
  },
  {
   "cell_type": "code",
   "execution_count": 10,
   "metadata": {},
   "outputs": [],
   "source": [
    "import torch\n",
    "def corr2d(X, K):\n",
    "    \"\"\"Compute 2D cross-correlation.\"\"\"\n",
    "    h, w = K.shape\n",
    "    Y = torch.zeros((X.shape[0] - h + 1, X.shape[1] - w + 1))\n",
    "    for i in range(Y.shape[0]):\n",
    "        for j in range(Y.shape[1]):\n",
    "            Y[i, j] = (X[i:i + h, j:j + w] * K).sum()\n",
    "    return Y"
   ]
  },
  {
   "cell_type": "code",
   "execution_count": 11,
   "metadata": {},
   "outputs": [
    {
     "data": {
      "text/plain": [
       "tensor([[19., 25.],\n",
       "        [37., 43.]])"
      ]
     },
     "execution_count": 11,
     "metadata": {},
     "output_type": "execute_result"
    }
   ],
   "source": [
    "X = torch.tensor([[0.0, 1.0, 2.0], [3.0, 4.0, 5.0], [6.0, 7.0, 8.0]])\n",
    "K = torch.tensor([[0.0, 1.0], [2.0, 3.0]])\n",
    "corr2d(X, K)"
   ]
  },
  {
   "cell_type": "markdown",
   "metadata": {},
   "source": [
    "## b. Convolutional layer"
   ]
  },
  {
   "attachments": {},
   "cell_type": "markdown",
   "metadata": {},
   "source": [
    "A convolutional layer cross-correlates the input and kernel and adds a scalar bias to produce an output. The two parameters of a convolutional layer are the kernel and the scalar bias. When training models based on convolutional layers, we typically initialize the kernels randomly, just as we would with a fully connected layer.\n",
    "\n",
    "We are now ready to implement a two-dimensional convolutional layer based on the corr2d function defined above. In the `__init__` constructor method, we declare weight and bias as the two model parameters. The forward propagation method calls the corr2d function and adds the bias.\n",
    "\n"
   ]
  },
  {
   "cell_type": "code",
   "execution_count": 12,
   "metadata": {},
   "outputs": [],
   "source": [
    "from torch import nn\n",
    "import torch\n",
    "class Conv2D(nn.Module):\n",
    "    def __init__(self, kernel_size):\n",
    "        super().__init__()\n",
    "        self.weight = nn.Parameter(torch.rand(kernel_size))\n",
    "        self.bias = nn.Parameter(torch.zeros(1))\n",
    "\n",
    "    def forward(self, x):\n",
    "        return corr2d(x, self.weight) + self.bias"
   ]
  },
  {
   "cell_type": "markdown",
   "metadata": {},
   "source": [
    "Now let’s see whether we can learn the kernel that generated Y from X by looking at the input–output pairs only. We first construct a convolutional layer and initialize its kernel as a random tensor. Next, in each iteration, we will use the squared error to compare Y with the output of the convolutional layer. We can then calculate the gradient to update the kernel. For the sake of simplicity, in the following we use the built-in class for two-dimensional convolutional layers and ignore the bias."
   ]
  },
  {
   "cell_type": "code",
   "execution_count": 28,
   "metadata": {},
   "outputs": [
    {
     "name": "stdout",
     "output_type": "stream",
     "text": [
      "torch.Size([6, 8])\n",
      "torch.Size([6, 7])\n",
      "Epoch 5, loss 0.743\n",
      "Epoch 10, loss 0.025\n",
      "Epoch 15, loss 0.002\n",
      "Epoch 20, loss 0.000\n"
     ]
    }
   ],
   "source": [
    "X = torch.ones((6, 8))\n",
    "X[:, 2:6] = 0\n",
    "print(X.shape)\n",
    "K = torch.tensor([[1.0, -1.0]])\n",
    "\n",
    "Y = corr2d(X, K)\n",
    "print(Y.shape)\n",
    "\n",
    "# Construct a two-dimensional convolutional layer with 1 output channel and a\n",
    "# kernel of shape (1, 2). For the sake of simplicity, we ignore the bias here\n",
    "conv2d = nn.Conv2d(in_channels = 1, out_channels = 1, kernel_size=(1, 2), bias=False)\n",
    "\n",
    "# The two-dimensional convolutional layer uses four-dimensional input and\n",
    "# output in the format of (example, channel, height, width), where the batch\n",
    "# size (number of examples in the batch) and the number of channels are both 1\n",
    "X = X.reshape((1, 1, 6, 8))\n",
    "Y = Y.reshape((1, 1, 6, 7))\n",
    "lr = 3e-2  # Learning rate\n",
    "\n",
    "for i in range(20):\n",
    "    Y_hat = conv2d(X)\n",
    "    l = ((Y_hat - Y) ** 2)\n",
    "    conv2d.zero_grad()\n",
    "    l.sum().backward()\n",
    "    # Update the kernel\n",
    "    conv2d.weight.data[:] -= lr * conv2d.weight.grad\n",
    "    if (i + 1) % 5 == 0:\n",
    "        print(f'Epoch {i + 1}, loss {l.sum():.3f}')"
   ]
  },
  {
   "cell_type": "code",
   "execution_count": 29,
   "metadata": {},
   "outputs": [
    {
     "data": {
      "text/plain": [
       "tensor([[[[ 1.0013, -0.9983]]]])"
      ]
     },
     "execution_count": 29,
     "metadata": {},
     "output_type": "execute_result"
    }
   ],
   "source": [
    "conv2d.weight.data"
   ]
  },
  {
   "attachments": {},
   "cell_type": "markdown",
   "metadata": {},
   "source": [
    "## c. Padding and Stride"
   ]
  },
  {
   "attachments": {},
   "cell_type": "markdown",
   "metadata": {},
   "source": [
    "In the following, we will explore two techniques that offer more control over the size of the output. As motivation, note that since kernels generally have width and height greater than 1, after applying many successive convolutions, we tend to wind up with outputs that are considerably smaller than our input. If we start with a $240 \\times 240$ pixel image, 10 layers of $5 \\times 5$ convolutions reduce the image to $200 \\times  200$ pixels, slicing off $30\\%$ of the image while removing any interesting information on the boundaries of the original image."
   ]
  },
  {
   "attachments": {},
   "cell_type": "markdown",
   "metadata": {},
   "source": [
    "### i. Padding"
   ]
  },
  {
   "attachments": {},
   "cell_type": "markdown",
   "metadata": {},
   "source": [
    "\\begin{bmatrix}\n",
    "0 & 0 & 0 & 0 & 0\\\\\n",
    "0 & 0 & 1 & 2 & 0\\\\\n",
    "0 & 3 & 4 & 5 & 0\\\\\n",
    "0 & 6 & 7 & 8 & 0 \\\\\n",
    "0 & 0 & 0 & 0 & 0\n",
    "\\end{bmatrix} * \\begin{bmatrix}\n",
    "0 & 1\\\\\n",
    "2 & 3\n",
    "\\end{bmatrix} = \\begin{bmatrix}\n",
    "0 & 3 & 8 & 4\\\\\n",
    "9 & 19 & 25 & 10\\\\\n",
    "21 & 37 & 43 & 16\\\\\n",
    "6 & 7 & 8 & 0\n",
    "\\end{bmatrix}"
   ]
  },
  {
   "attachments": {},
   "cell_type": "markdown",
   "metadata": {},
   "source": [
    "If we add a total of $p_h$ rows of padding (roughly half on top and half on bottom) and a total of $p_w$columns of padding (roughly half on the left and half on the right), the output shape will be: $(n_h-k_h+p_h+1)\\times(n_w-k_w+p_w+1)$."
   ]
  },
  {
   "attachments": {},
   "cell_type": "markdown",
   "metadata": {},
   "source": [
    "In practice, we set $p_h = k_h - 1$ and $p_w=k_w-1$ to keep the output shape the same as the input shape. "
   ]
  },
  {
   "attachments": {},
   "cell_type": "markdown",
   "metadata": {},
   "source": [
    "###  ii. Stride "
   ]
  },
  {
   "attachments": {},
   "cell_type": "markdown",
   "metadata": {},
   "source": [
    "In the previous examples, we defaulted to sliding one element at a time. However, sometimes, either for computational efficiency or because we wish to downsample, we move our window more than one element at a time, skipping the intermediate locations. This is particularly useful if the convolution kernel is large since it captures a large area of the underlying image. We refer to the number of rows and columns traversed per slide as stride. So far, we have used strides of 1, both for height and width. Sometimes, we may want to use a larger stride."
   ]
  },
  {
   "attachments": {},
   "cell_type": "markdown",
   "metadata": {},
   "source": [
    "For a stride $(s_h, s_w)$, we have an output shape of: $\\lfloor(n_h-k_h+p_h+s_h)/s_h\\rfloor \\times \\lfloor(n_w-k_w+p_w+s_w)/s_w\\rfloor$"
   ]
  },
  {
   "attachments": {},
   "cell_type": "markdown",
   "metadata": {},
   "source": [
    "E.g. For the previous example with a stride of 3 vertically and stride of 2 horizontally:"
   ]
  },
  {
   "attachments": {},
   "cell_type": "markdown",
   "metadata": {},
   "source": [
    "\\begin{bmatrix}\n",
    "0 & 0 & 0 & 0 & 0\\\\\n",
    "0 & 0 & 1 & 2 & 0\\\\\n",
    "0 & 3 & 4 & 5 & 0\\\\\n",
    "0 & 6 & 7 & 8 & 0 \\\\\n",
    "0 & 0 & 0 & 0 & 0\n",
    "\\end{bmatrix} * \\begin{bmatrix}\n",
    "0 & 1\\\\\n",
    "2 & 3\n",
    "\\end{bmatrix} = \\begin{bmatrix}\n",
    "0 & 8\\\\\n",
    "6 & 8\n",
    "\\end{bmatrix}"
   ]
  },
  {
   "attachments": {},
   "cell_type": "markdown",
   "metadata": {},
   "source": [
    "## d. LeNet5"
   ]
  },
  {
   "cell_type": "code",
   "execution_count": 73,
   "metadata": {},
   "outputs": [],
   "source": [
    "from torch import nn\n",
    "from torch.nn import functional as F\n",
    "class LeNet5(nn.Module):\n",
    "    def __init__(self):\n",
    "        super().__init__()\n",
    "        self.conv1 = nn.Conv2d(1, 20, 5, 1)\n",
    "        self.conv2 = nn.Conv2d(20, 20, 5, 1)\n",
    "        self.fc1 = nn.Linear(20*5*5, 500)\n",
    "        self.fc2 = nn.Linear(500, 10)\n",
    "\n",
    "    def forward(self, x):\n",
    "        print(\"Input shape:\", x.shape)\n",
    "        x = self.conv1(x)\n",
    "        print(\"Conv2d:\", x.shape)\n",
    "        x = F.relu(x)\n",
    "        x = F.max_pool2d(x, 2, 2)\n",
    "        print(\"MaxPool2d:\", x.shape)\n",
    "        x = self.conv2(x)\n",
    "        print(\"Conv2d:\", x.shape)\n",
    "        x = F.relu(x)\n",
    "        x = F.max_pool2d(x, 2, 2)\n",
    "        print(\"MaxPool2d:\", x.shape)\n",
    "        x = x.view(-1, 20*5*5)\n",
    "        print(\"Flatten:\", x.shape)\n",
    "        x = F.relu(self.fc1(x))\n",
    "        x = self.fc2(x)\n",
    "        print(x.shape)\n",
    "        x = nn.Softmax(dim=1)(x)\n",
    "        return torch.argmax(x, dim=1)"
   ]
  },
  {
   "cell_type": "code",
   "execution_count": 74,
   "metadata": {},
   "outputs": [],
   "source": [
    "input = torch.randn(1, 1, 32, 32)"
   ]
  },
  {
   "cell_type": "code",
   "execution_count": 75,
   "metadata": {},
   "outputs": [],
   "source": [
    "lenet = LeNet5()"
   ]
  },
  {
   "cell_type": "code",
   "execution_count": 76,
   "metadata": {},
   "outputs": [
    {
     "name": "stdout",
     "output_type": "stream",
     "text": [
      "Input shape: torch.Size([1, 1, 32, 32])\n",
      "Conv2d: torch.Size([1, 20, 28, 28])\n",
      "MaxPool2d: torch.Size([1, 20, 14, 14])\n",
      "Conv2d: torch.Size([1, 20, 10, 10])\n",
      "MaxPool2d: torch.Size([1, 20, 5, 5])\n",
      "Flatten: torch.Size([1, 500])\n",
      "torch.Size([1, 10])\n"
     ]
    },
    {
     "data": {
      "text/plain": [
       "tensor([4])"
      ]
     },
     "execution_count": 76,
     "metadata": {},
     "output_type": "execute_result"
    }
   ],
   "source": [
    "lenet(input)"
   ]
  },
  {
   "attachments": {},
   "cell_type": "markdown",
   "metadata": {},
   "source": [
    "## e. Application: Predicting Zillow home prices using 1D-convolutional neural networks"
   ]
  },
  {
   "cell_type": "code",
   "execution_count": 215,
   "metadata": {},
   "outputs": [],
   "source": [
    "import pandas as pd\n",
    "import torch\n",
    "import numpy as np\n",
    "from sklearn.preprocessing import OneHotEncoder\n",
    "from sklearn.model_selection import train_test_split"
   ]
  },
  {
   "cell_type": "code",
   "execution_count": 216,
   "metadata": {},
   "outputs": [],
   "source": [
    "train = pd.read_csv('train.data.csv', index_col = 0)\n",
    "test = pd.read_csv('test.data.csv', index_col = 0)"
   ]
  },
  {
   "cell_type": "code",
   "execution_count": 217,
   "metadata": {},
   "outputs": [],
   "source": [
    "train.dropna(inplace = True)\n",
    "test.dropna(inplace = True)\n",
    "ohe = OneHotEncoder()\n",
    "categories_train = ohe.fit_transform(train.loc[:, ['zipcode']]).toarray()\n",
    "categories_test = ohe.transform(test.loc[:, ['zipcode']]).toarray()\n",
    "for i, cat in enumerate(ohe.categories_[0]):\n",
    "    train[str(cat)] = categories_train[:, i]\n",
    "    test[str(cat)] = categories_test[:, i]\n",
    "train.drop(['id', 'date', 'zipcode'], axis = 1, inplace = True)\n",
    "test.drop(['id', 'date', 'zipcode'], axis = 1, inplace = True)\n",
    "X_train, y_train = train.drop(['price'], axis=1), train['price']\n",
    "X_test, y_test = test.drop(['price'], axis=1), test['price']\n",
    "X_train, X_val, y_train, y_val = train_test_split(X_train, y_train, test_size=0.4, random_state=200)\n",
    "for i, c in enumerate(X_train.columns):\n",
    "    if i<18 and c!='view' and c!='waterfront':\n",
    "        mu, sigma = np.mean(X_train.loc[:, c]), np.std(X_train.loc[:, c])\n",
    "        X_train.loc[:, c] = (X_train.loc[:, c]-mu)/sigma\n",
    "        X_val.loc[:, c] = (X_val.loc[:, c]-mu)/sigma\n",
    "        X_test.loc[:, c] = (X_test.loc[:, c]-mu)/sigma\n",
    "mu_y_train = np.mean(y_train)\n",
    "sigma_y_train = np.std(y_train)\n",
    "y_train = (y_train - mu_y_train)/sigma_y_train"
   ]
  },
  {
   "cell_type": "code",
   "execution_count": 241,
   "metadata": {},
   "outputs": [
    {
     "name": "stderr",
     "output_type": "stream",
     "text": [
      "c:\\Users\\mathi\\AppData\\Local\\Programs\\Python\\Python37\\lib\\site-packages\\torch\\nn\\modules\\lazy.py:180: UserWarning: Lazy modules are a new feature under heavy development so changes to the API or functionality can happen at any moment.\n",
      "  warnings.warn('Lazy modules are a new feature under heavy development '\n"
     ]
    }
   ],
   "source": [
    "model = torch.nn.Sequential(torch.nn.Conv1d(in_channels = 1, out_channels = 10, kernel_size=60),\n",
    "                            torch.nn.ReLU(),\n",
    "                            torch.nn.Flatten(),\n",
    "                            torch.nn.LazyLinear(out_features=1),\n",
    "                            torch.nn.ELU()\n",
    "                            )\n",
    "optimizer = torch.optim.SGD(model.parameters(), lr=0.001, momentum=0.3)\n",
    "criterion = torch.nn.MSELoss()"
   ]
  },
  {
   "cell_type": "code",
   "execution_count": 242,
   "metadata": {},
   "outputs": [],
   "source": [
    "batch_size = 32\n",
    "num_epochs = 20"
   ]
  },
  {
   "cell_type": "code",
   "execution_count": 243,
   "metadata": {},
   "outputs": [
    {
     "name": "stdout",
     "output_type": "stream",
     "text": [
      "Epoch 1, Loss: 1.0287\n",
      "Epoch 2, Loss: 0.4593\n",
      "Epoch 3, Loss: 0.2785\n",
      "Epoch 4, Loss: 0.1999\n",
      "Epoch 5, Loss: 0.1565\n",
      "Epoch 6, Loss: 0.1308\n",
      "Epoch 7, Loss: 0.1154\n",
      "Epoch 8, Loss: 0.1058\n",
      "Epoch 9, Loss: 0.0997\n",
      "Epoch 10, Loss: 0.0958\n",
      "Epoch 11, Loss: 0.0932\n",
      "Epoch 12, Loss: 0.0914\n",
      "Epoch 13, Loss: 0.0904\n",
      "Epoch 14, Loss: 0.0897\n",
      "Epoch 15, Loss: 0.0896\n",
      "Epoch 16, Loss: 0.0896\n",
      "Epoch 17, Loss: 0.0897\n",
      "Epoch 18, Loss: 0.0898\n",
      "Epoch 19, Loss: 0.0898\n",
      "Epoch 20, Loss: 0.0899\n",
      "Finished Training\n"
     ]
    }
   ],
   "source": [
    "\n",
    "for epoch in range(num_epochs):\n",
    "    for i in range(0, len(X_train), batch_size):\n",
    "        batch_X = X_train.iloc[i:i+batch_size, :]\n",
    "        batch_X = torch.tensor(batch_X.values, dtype=torch.float32)\n",
    "        batch_X = torch.reshape(batch_X, (-1, 1, batch_X.shape[1]))\n",
    "\n",
    "        batch_y = y_train.iloc[i:i+batch_size]\n",
    "        batch_y = torch.tensor(batch_y.values, dtype=torch.float32)\n",
    "        batch_y = torch.reshape(batch_y, (-1, 1))\n",
    "        \n",
    "        batch_y_pred = model(batch_X)\n",
    "\n",
    "        loss = criterion(batch_y, batch_y_pred)\n",
    "        optimizer.zero_grad()\n",
    "        loss.backward()\n",
    "        optimizer.step()\n",
    "    \n",
    "    print(f'Epoch {epoch+1}, Loss: {loss.item():.4f}')\n",
    "\n",
    "print('Finished Training')"
   ]
  },
  {
   "cell_type": "code",
   "execution_count": 244,
   "metadata": {},
   "outputs": [
    {
     "data": {
      "text/plain": [
       "Sequential(\n",
       "  (0): Conv1d(1, 10, kernel_size=(60,), stride=(1,))\n",
       "  (1): ReLU()\n",
       "  (2): Flatten(start_dim=1, end_dim=-1)\n",
       "  (3): Linear(in_features=280, out_features=1, bias=True)\n",
       "  (4): ELU(alpha=1.0)\n",
       ")"
      ]
     },
     "execution_count": 244,
     "metadata": {},
     "output_type": "execute_result"
    }
   ],
   "source": [
    "model.train(mode = False)"
   ]
  },
  {
   "cell_type": "code",
   "execution_count": 246,
   "metadata": {},
   "outputs": [
    {
     "data": {
      "text/plain": [
       "array(179087.89, dtype=float32)"
      ]
     },
     "execution_count": 246,
     "metadata": {},
     "output_type": "execute_result"
    }
   ],
   "source": [
    "torch.sqrt(criterion(model(torch.reshape(torch.tensor(X_test.values, dtype=torch.float32), (-1, 1, X_test.shape[1])))*sigma_y_train + mu_y_train, torch.reshape(torch.tensor(y_test.values, dtype=torch.float32), (-1, 1)))).detach().numpy()"
   ]
  }
 ],
 "metadata": {
  "kernelspec": {
   "display_name": "Python 3",
   "language": "python",
   "name": "python3"
  },
  "language_info": {
   "codemirror_mode": {
    "name": "ipython",
    "version": 3
   },
   "file_extension": ".py",
   "mimetype": "text/x-python",
   "name": "python",
   "nbconvert_exporter": "python",
   "pygments_lexer": "ipython3",
   "version": "3.7.9"
  },
  "orig_nbformat": 4
 },
 "nbformat": 4,
 "nbformat_minor": 2
}
